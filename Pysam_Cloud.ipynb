{
 "cells": [
  {
   "cell_type": "code",
   "execution_count": 1,
   "id": "71e4dc90",
   "metadata": {},
   "outputs": [],
   "source": [
    "import requests\n",
    "import json\n",
    "from tqdm import tqdm\n",
    "import pysam\n",
    "from time import time\n",
    "from multiprocessing import Pool,Manager\n",
    "import os\n"
   ]
  },
  {
   "cell_type": "code",
   "execution_count": 2,
   "id": "56b5f125",
   "metadata": {},
   "outputs": [],
   "source": [
    "#create three arrays with region of interests chromosoms,start,end\n",
    "\n",
    "targetJson = 'STR_loci_hg19_with_offtargets_20230525.json'\n",
    "with open(targetJson) as j:\n",
    "    x=j.read()\n",
    "aa =json.loads(x)\n",
    "positions = set()\n",
    "\n",
    "for roi in aa:\n",
    "    RR = roi['ReferenceRegion']\n",
    "    if type(RR)==str:\n",
    "        positions.add(RR)\n",
    "    else:\n",
    "        for o in RR:\n",
    "            positions.add(o)\n",
    "    if 'OfftargetRegions' not in roi:\n",
    "        continue\n",
    "    OR = roi['OfftargetRegions']\n",
    "    for o in OR:\n",
    "        positions.add(o)\n",
    "\n",
    "        \n",
    "chroms = [x.split(':')[0].replace('chr','') for x in positions]\n",
    "starts = [int(x.split(':')[1].split('-')[0]) for x in positions]\n",
    "ends = [int(x.split(':')[1].split('-')[1]) for x in positions]"
   ]
  },
  {
   "cell_type": "code",
   "execution_count": 3,
   "id": "027a1d52",
   "metadata": {},
   "outputs": [],
   "source": [
    "# GetChunk function collects all alignments from one target region, alignemnts are returned as strings to allow mutliprocessing\n",
    "\n",
    "\n",
    "def GetChunk(x):\n",
    "    bam = x[0]\n",
    "    bai = x[1]\n",
    "    c = x[2]\n",
    "    s = x[3]\n",
    "    e = x[4]\n",
    "    padding = x[5]\n",
    "    reads = set()\n",
    "    with pysam.AlignmentFile(bam,filepath_index=bai) as f:\n",
    "        for r in f.fetch(c,s-padding,e+padding,until_eof=True):\n",
    "            r=r.to_string()\n",
    "            if r not in reads:\n",
    "                reads.add(r)\n",
    "    return reads\n",
    "\n",
    "\n",
    "# GetBam function creates job for each ROI, multiprocessing of the jobs using pool imap, tqdm only for progress bar\n",
    "# proc parameter controls how many parallele requests we do, padding adds region to the original reg. of interest\n",
    "\n",
    "def GetBam(bam,bai,chrom,start,stop,outname,padding=50,proc=12):\n",
    "    mp_split = [(bam,bai,c,s,e,padding) for c,s,e in zip(chrom,start,stop)]\n",
    "    with Pool(processes=proc) as p:\n",
    "        r = list(tqdm(p.imap(GetChunk, mp_split), total=len(mp_split)))\n",
    "    rr = set([xx for x in r for xx in x])    \n",
    "    outname_temp = outname.replace('.bam','unsorted.bam')\n",
    "    with pysam.AlignmentFile(bam,filepath_index=bai) as f:\n",
    "        with pysam.AlignmentFile(outname_temp,'wb',template=f) as bamout:\n",
    "            for r in rr:\n",
    "                bamout.write(pysam.AlignedSegment.fromstring(r,f.header))\n",
    "    pysam.sort(\"-o\", outname, outname_temp)\n",
    "    pysam.index(outname)\n"
   ]
  },
  {
   "cell_type": "code",
   "execution_count": 4,
   "id": "0d584bf7",
   "metadata": {},
   "outputs": [],
   "source": [
    "outfolder = '../01_data_out'"
   ]
  },
  {
   "cell_type": "code",
   "execution_count": 5,
   "id": "8d7792a7",
   "metadata": {},
   "outputs": [],
   "source": [
    "# lists of aws bam and bai links, like created from /get-file-download-links Endpoint\n",
    "aws_bamLlinks = []\n",
    "aws_bai_links = []"
   ]
  },
  {
   "cell_type": "code",
   "execution_count": 6,
   "id": "bf32f9b8",
   "metadata": {},
   "outputs": [],
   "source": [
    "\n",
    "\n",
    "    \n",
    "for bam_aws,bai_aws in zip(aws_bamLlinks,aws_bai_links):\n",
    "    x=time() #stop time\n",
    "    bai_out = f'{outfolder}/{n}_{i}_varvis.bai'\n",
    "    bam_out = f'{outfolder}/{n}_{i}_varvis.bam'\n",
    "        \n",
    "    #download index\n",
    "    if not os.path.exists(bai_out):\n",
    "        r = requests.get(bai_aws, stream=True)\n",
    "        with open(bai_out, 'wb') as bai_file:\n",
    "            bai_file.write(r.content)\n",
    "\n",
    "    GetBam(bam_aws,bai_out,chroms,starts,ends,bam_out,padding=500, proc=100)\n",
    "    print(time()-x)"
   ]
  },
  {
   "cell_type": "code",
   "execution_count": null,
   "id": "a5e98664",
   "metadata": {},
   "outputs": [],
   "source": []
  }
 ],
 "metadata": {
  "kernelspec": {
   "display_name": "Python 3 (ipykernel)",
   "language": "python",
   "name": "python3"
  },
  "language_info": {
   "codemirror_mode": {
    "name": "ipython",
    "version": 3
   },
   "file_extension": ".py",
   "mimetype": "text/x-python",
   "name": "python",
   "nbconvert_exporter": "python",
   "pygments_lexer": "ipython3",
   "version": "3.10.12"
  }
 },
 "nbformat": 4,
 "nbformat_minor": 5
}
