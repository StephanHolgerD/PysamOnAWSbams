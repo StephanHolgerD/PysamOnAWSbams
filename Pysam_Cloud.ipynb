{
 "cells": [
  {
   "cell_type": "code",
   "execution_count": 1,
   "id": "71e4dc90",
   "metadata": {},
   "outputs": [],
   "source": [
    "import requests\n",
    "import json\n",
    "from tqdm import tqdm\n",
    "import pysam\n",
    "from time import time\n",
    "from multiprocessing import Pool,Manager\n",
    "import os\n"
   ]
  },
  {
   "cell_type": "code",
   "execution_count": 15,
   "id": "56b5f125",
   "metadata": {},
   "outputs": [],
   "source": [
    "#create three arrays with region of interests chromosoms,start,end\n",
    "\n",
    "targetJson = 'STR_loci_hg19_with_offtargets_20230525.json'\n",
    "with open(targetJson) as j:\n",
    "    x=j.read()\n",
    "aa =json.loads(x)\n",
    "positions = set()\n",
    "\n",
    "for roi in aa:\n",
    "    RR = roi['ReferenceRegion']\n",
    "    if type(RR)==str:\n",
    "        positions.add(RR)\n",
    "    else:\n",
    "        for o in RR:\n",
    "            positions.add(o)\n",
    "    if 'OfftargetRegions' not in roi:\n",
    "        continue\n",
    "    OR = roi['OfftargetRegions']\n",
    "    for o in OR:\n",
    "        positions.add(o)\n",
    "\n",
    "        \n",
    "chroms = [x.split(':')[0].replace('chr','') for x in positions]\n",
    "starts = [int(x.split(':')[1].split('-')[0]) for x in positions]\n",
    "ends = [int(x.split(':')[1].split('-')[1]) for x in positions]\n",
    "\n",
    "\n",
    "sex = ['X','Y']\n",
    "\n",
    "positions_ns = [(int(x),int(xx),int(xxx)) for x,xx,xxx in zip(chroms,starts,ends) if x not in sex]\n",
    "positions_s = [(x,int(xx),int(xxx)) for x,xx,xxx in zip(chroms,starts,ends) if x in sex]\n",
    "\n"
   ]
  },
  {
   "cell_type": "code",
   "execution_count": 30,
   "id": "0f37cae3",
   "metadata": {},
   "outputs": [],
   "source": [
    "positions_ns.sort(key=lambda x: (x[0],x[1]))\n",
    "\n",
    "positions_s.sort(key=lambda x: (x[1]))\n",
    "\n",
    "\n",
    "positions = [(str(x[0]),x[1],x[2]) for x in positions_ns]\n",
    "\n",
    "positions = positions + [x for x in positions_s if x[0]=='X']\n",
    "\n",
    "positions = positions + [x for x in positions_s if x[0]=='Y']"
   ]
  },
  {
   "cell_type": "code",
   "execution_count": 56,
   "id": "f8cb909e",
   "metadata": {},
   "outputs": [],
   "source": [
    "readlength = 150\n",
    "padding = 500\n",
    "\n",
    "readlength = 0\n",
    "padding = 0\n",
    "positions_request = []\n",
    "\n",
    "contigs = list(dict.fromkeys([x[0] for x in positions]))\n",
    "for contig in contigs:\n",
    "    done_positions = []\n",
    "    pos_on_contig = [x for x in positions if x[0]==contig]\n",
    "    for n,pos in enumerate(pos_on_contig):\n",
    "        if n in done_positions:\n",
    "            continue\n",
    "        \n",
    "        start = pos[1]\n",
    "        end = pos[2]\n",
    "        \n",
    "        req_end = end+padding+readlength\n",
    "        for nn in range(n+1,len(pos_on_contig)):\n",
    "            start_next = pos_on_contig[nn][1]\n",
    "            end_next = pos_on_contig[nn][2]\n",
    "            \n",
    "            if start_next<req_end:\n",
    "                done_positions.append(nn)\n",
    "                req_end = end_next+padding+readlength\n",
    "        \n",
    "        \n",
    "        positions_request.append((contig,start,req_end))\n",
    "                \n",
    "            \n",
    "        "
   ]
  },
  {
   "cell_type": "code",
   "execution_count": 170,
   "id": "645efd7e",
   "metadata": {},
   "outputs": [],
   "source": [
    "\n",
    "xx =['1:0-100000','2:0-500000']\n",
    "x = pysam.view(bam_aws,'-X' ,bai_aws ,*xx)"
   ]
  },
  {
   "cell_type": "code",
   "execution_count": 158,
   "id": "027a1d52",
   "metadata": {},
   "outputs": [],
   "source": [
    "# GetChunk function collects all alignments from one target region, alignemnts are returned as strings to allow mutliprocessing\n",
    "\n",
    "\n",
    "def GetChunk(x):\n",
    "    bam = x[0]\n",
    "    bai = x[1]\n",
    "    c = x[2]\n",
    "    s = x[3]\n",
    "    e = x[4]\n",
    "    \n",
    "    padding = x[5]\n",
    "    s = s-padding\n",
    "    e = e + padding\n",
    "    cmd = f'{bam} -X {bai} {c}:{s}:{e}'\n",
    "    cmd = cmd.split(' ')\n",
    "    bam_chunk = pysam.view(bam_aws,'-X' ,bai_aws ,f'{c}:{s}-{e}')\n",
    "    return bam_chunk\n",
    "\n",
    "\n",
    "# GetBam function creates job for each ROI, multiprocessing of the jobs using pool imap, tqdm only for progress bar\n",
    "# proc parameter controls how many parallele requests we do, padding adds region to the original reg. of interest\n",
    "\n",
    "def GetBam(bam,bai,chrom,start,stop,outname,padding=50,proc=12):\n",
    "    mp_split = [(bam,bai,c,s,e,padding) for c,s,e in zip(chrom,start,stop)]\n",
    "    with Pool(processes=proc) as p:\n",
    "        r = list(tqdm(p.imap(GetChunk, mp_split), total=len(mp_split)))\n",
    "    outname_temp = outname.replace('.bam','unsorted.bam')\n",
    "    with pysam.AlignmentFile(bam,filepath_index=bai) as f:\n",
    "        with pysam.AlignmentFile(outname_temp,'wb',template=f) as bamout:\n",
    "            for chunk in r:\n",
    "                for read in chunk.split('\\n')[:-1]:\n",
    "                    bamout.write(pysam.AlignedSegment.fromstring(read,f.header))\n",
    "    pysam.sort(\"-o\", outname, outname_temp)\n",
    "    pysam.index(outname)\n"
   ]
  },
  {
   "cell_type": "code",
   "execution_count": 159,
   "id": "0d584bf7",
   "metadata": {},
   "outputs": [],
   "source": [
    "outfolder = 'data_out/'"
   ]
  },
  {
   "cell_type": "code",
   "execution_count": 160,
   "id": "8d7792a7",
   "metadata": {},
   "outputs": [],
   "source": [
    "# lists of aws bam and bai links, like created from /get-file-download-links Endpoint\n",
    "aws_bamLlinks = ['http://localhost:8000/HG00160.mapped.ILLUMINA.bwa.GBR.exome.20120522.bam']\n",
    "aws_bai_links = ['http://localhost:8000/HG00160.mapped.ILLUMINA.bwa.GBR.exome.20120522.bam.bai']"
   ]
  },
  {
   "cell_type": "code",
   "execution_count": 161,
   "id": "bf32f9b8",
   "metadata": {},
   "outputs": [
    {
     "name": "stderr",
     "output_type": "stream",
     "text": [
      "100%|███████████████████████████████████████████████████████████████████████████████████████████████████████████████████████████████████████████████████████████████████████████████████████████████████████| 274/274 [00:04<00:00, 62.73it/s]\n"
     ]
    },
    {
     "name": "stdout",
     "output_type": "stream",
     "text": [
      "4.88194727897644\n"
     ]
    }
   ],
   "source": [
    "\n",
    "\n",
    "chroms=[x[0]for x in positions_request]\n",
    "starts=[x[1]for x in positions_request]\n",
    "ends=[x[2]for x in positions_request]\n",
    "\n",
    "for bam_aws,bai_aws in zip(aws_bamLlinks,aws_bai_links):\n",
    "    x=time() #stop time\n",
    "    bai_out = f'{outfolder}/http.bai'\n",
    "    bam_out = f'{outfolder}/http.bam'\n",
    "        \n",
    "    if not os.path.exists(bai_out):\n",
    "        r = requests.get(bai_aws, stream=True)\n",
    "        with open(bai_out, 'wb') as bai_file:\n",
    "            bai_file.write(r.content)\n",
    "\n",
    "    xx = GetBam(bam_aws,bai_out,chroms,starts,ends,bam_out,padding=500, proc=10)\n",
    "    print(time()-x)"
   ]
  },
  {
   "cell_type": "code",
   "execution_count": null,
   "id": "b5f65996",
   "metadata": {},
   "outputs": [],
   "source": []
  }
 ],
 "metadata": {
  "kernelspec": {
   "display_name": "Python 3 (ipykernel)",
   "language": "python",
   "name": "python3"
  },
  "language_info": {
   "codemirror_mode": {
    "name": "ipython",
    "version": 3
   },
   "file_extension": ".py",
   "mimetype": "text/x-python",
   "name": "python",
   "nbconvert_exporter": "python",
   "pygments_lexer": "ipython3",
   "version": "3.10.12"
  }
 },
 "nbformat": 4,
 "nbformat_minor": 5
}
